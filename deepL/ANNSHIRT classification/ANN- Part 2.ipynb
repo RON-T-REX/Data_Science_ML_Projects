{
 "cells": [
  {
   "cell_type": "code",
   "execution_count": 1,
   "metadata": {},
   "outputs": [],
   "source": [
    "import numpy as np\n",
    "import pandas as pd\n",
    "%matplotlib inline\n",
    "import matplotlib as mpl\n",
    "import matplotlib.pyplot as plt"
   ]
  },
  {
   "cell_type": "code",
   "execution_count": 2,
   "metadata": {},
   "outputs": [],
   "source": [
    "import tensorflow as tf\n",
    "from tensorflow import keras"
   ]
  },
  {
   "cell_type": "code",
   "execution_count": 3,
   "metadata": {},
   "outputs": [],
   "source": [
    "from sklearn.datasets import fetch_california_housing\n",
    "housing = fetch_california_housing()"
   ]
  },
  {
   "cell_type": "markdown",
   "metadata": {},
   "source": [
    "### Data Set Characteristics:\n",
    "\n",
    "##### Number of Instances:\n",
    " \t\n",
    "20640\n",
    "\n",
    "##### Number of Attributes:\n",
    " \t\n",
    "8 numeric, predictive attributes and the target\n",
    "\n",
    "##### Attribute Information:\n",
    " \t\n",
    "* MedInc median income in block\n",
    "* HouseAge median house age in block\n",
    "* AveRooms average number of rooms\n",
    "* AveBedrms average number of bedrooms\n",
    "* Population block population\n",
    "* AveOccup average house occupancy\n",
    "* Latitude house block latitude\n",
    "* Longitude house block longitude\n",
    "\n",
    "#### Target\n",
    "\n",
    "The target variable is the median house value in units of 100,000 for California districts.\n",
    "\n",
    "#### Documentation \n",
    "https://scikit-learn.org/stable/modules/generated/sklearn.datasets.fetch_california_housing.html#examples-using-sklearn-datasets-fetch-california-housing"
   ]
  },
  {
   "cell_type": "code",
   "execution_count": 4,
   "metadata": {},
   "outputs": [
    {
     "name": "stdout",
     "output_type": "stream",
     "text": [
      "['MedInc', 'HouseAge', 'AveRooms', 'AveBedrms', 'Population', 'AveOccup', 'Latitude', 'Longitude']\n"
     ]
    }
   ],
   "source": [
    "print(housing.feature_names)"
   ]
  },
  {
   "cell_type": "code",
   "execution_count": 5,
   "metadata": {},
   "outputs": [
    {
     "data": {
      "text/plain": [
       "{'data': array([[   8.3252    ,   41.        ,    6.98412698, ...,    2.55555556,\n",
       "           37.88      , -122.23      ],\n",
       "        [   8.3014    ,   21.        ,    6.23813708, ...,    2.10984183,\n",
       "           37.86      , -122.22      ],\n",
       "        [   7.2574    ,   52.        ,    8.28813559, ...,    2.80225989,\n",
       "           37.85      , -122.24      ],\n",
       "        ...,\n",
       "        [   1.7       ,   17.        ,    5.20554273, ...,    2.3256351 ,\n",
       "           39.43      , -121.22      ],\n",
       "        [   1.8672    ,   18.        ,    5.32951289, ...,    2.12320917,\n",
       "           39.43      , -121.32      ],\n",
       "        [   2.3886    ,   16.        ,    5.25471698, ...,    2.61698113,\n",
       "           39.37      , -121.24      ]]),\n",
       " 'target': array([4.526, 3.585, 3.521, ..., 0.923, 0.847, 0.894]),\n",
       " 'frame': None,\n",
       " 'target_names': ['MedHouseVal'],\n",
       " 'feature_names': ['MedInc',\n",
       "  'HouseAge',\n",
       "  'AveRooms',\n",
       "  'AveBedrms',\n",
       "  'Population',\n",
       "  'AveOccup',\n",
       "  'Latitude',\n",
       "  'Longitude'],\n",
       " 'DESCR': '.. _california_housing_dataset:\\n\\nCalifornia Housing dataset\\n--------------------------\\n\\n**Data Set Characteristics:**\\n\\n    :Number of Instances: 20640\\n\\n    :Number of Attributes: 8 numeric, predictive attributes and the target\\n\\n    :Attribute Information:\\n        - MedInc        median income in block\\n        - HouseAge      median house age in block\\n        - AveRooms      average number of rooms\\n        - AveBedrms     average number of bedrooms\\n        - Population    block population\\n        - AveOccup      average house occupancy\\n        - Latitude      house block latitude\\n        - Longitude     house block longitude\\n\\n    :Missing Attribute Values: None\\n\\nThis dataset was obtained from the StatLib repository.\\nhttp://lib.stat.cmu.edu/datasets/\\n\\nThe target variable is the median house value for California districts.\\n\\nThis dataset was derived from the 1990 U.S. census, using one row per census\\nblock group. A block group is the smallest geographical unit for which the U.S.\\nCensus Bureau publishes sample data (a block group typically has a population\\nof 600 to 3,000 people).\\n\\nIt can be downloaded/loaded using the\\n:func:`sklearn.datasets.fetch_california_housing` function.\\n\\n.. topic:: References\\n\\n    - Pace, R. Kelley and Ronald Barry, Sparse Spatial Autoregressions,\\n      Statistics and Probability Letters, 33 (1997) 291-297\\n'}"
      ]
     },
     "execution_count": 5,
     "metadata": {},
     "output_type": "execute_result"
    }
   ],
   "source": [
    "housing"
   ]
  },
  {
   "cell_type": "code",
   "execution_count": 6,
   "metadata": {},
   "outputs": [],
   "source": [
    "from sklearn.model_selection import train_test_split\n",
    "X_train_full, X_test, y_train_full, y_test = train_test_split(housing.data, housing.target, random_state=42)\n",
    "X_train, X_valid, y_train, y_valid = train_test_split(X_train_full, y_train_full, random_state=42)"
   ]
  },
  {
   "cell_type": "code",
   "execution_count": 7,
   "metadata": {},
   "outputs": [],
   "source": [
    "from sklearn.preprocessing import StandardScaler\n",
    "scaler = StandardScaler()\n",
    "X_train = scaler.fit_transform(X_train)\n",
    "X_valid = scaler.transform(X_valid)\n",
    "X_test = scaler.transform(X_test)"
   ]
  },
  {
   "cell_type": "code",
   "execution_count": 8,
   "metadata": {},
   "outputs": [],
   "source": [
    "np.random.seed(42)\n",
    "tf.random.set_seed(42)"
   ]
  },
  {
   "cell_type": "code",
   "execution_count": 9,
   "metadata": {},
   "outputs": [
    {
     "data": {
      "text/plain": [
       "(11610, 8)"
      ]
     },
     "execution_count": 9,
     "metadata": {},
     "output_type": "execute_result"
    }
   ],
   "source": [
    "X_train.shape"
   ]
  },
  {
   "cell_type": "markdown",
   "metadata": {},
   "source": [
    "![](Seq_api.png \"Title\")"
   ]
  },
  {
   "cell_type": "code",
   "execution_count": 10,
   "metadata": {},
   "outputs": [],
   "source": [
    "model = keras.models.Sequential([\n",
    "    keras.layers.Dense(30, activation=\"relu\", input_shape=[8]),\n",
    "    keras.layers.Dense(30, activation=\"relu\"),\n",
    "    keras.layers.Dense(1)\n",
    "])\n",
    "# keras.layers.Dense(30, activation=\"relu\", input_shape=X_train.shape[1:])"
   ]
  },
  {
   "cell_type": "code",
   "execution_count": 11,
   "metadata": {},
   "outputs": [
    {
     "name": "stdout",
     "output_type": "stream",
     "text": [
      "Model: \"sequential\"\n",
      "_________________________________________________________________\n",
      "Layer (type)                 Output Shape              Param #   \n",
      "=================================================================\n",
      "dense (Dense)                (None, 30)                270       \n",
      "_________________________________________________________________\n",
      "dense_1 (Dense)              (None, 30)                930       \n",
      "_________________________________________________________________\n",
      "dense_2 (Dense)              (None, 1)                 31        \n",
      "=================================================================\n",
      "Total params: 1,231\n",
      "Trainable params: 1,231\n",
      "Non-trainable params: 0\n",
      "_________________________________________________________________\n"
     ]
    }
   ],
   "source": [
    "model.summary()"
   ]
  },
  {
   "cell_type": "code",
   "execution_count": 12,
   "metadata": {},
   "outputs": [],
   "source": [
    "model.compile(loss=\"mean_squared_error\", \n",
    "              optimizer=keras.optimizers.SGD(lr=1e-3), \n",
    "              metrics=['mae'])"
   ]
  },
  {
   "cell_type": "code",
   "execution_count": 13,
   "metadata": {},
   "outputs": [
    {
     "name": "stdout",
     "output_type": "stream",
     "text": [
      "Epoch 1/20\n",
      "363/363 [==============================] - 1s 2ms/step - loss: 1.8866 - mae: 0.9900 - val_loss: 0.7126 - val_mae: 0.6368\n",
      "Epoch 2/20\n",
      "363/363 [==============================] - 0s 1ms/step - loss: 0.6577 - mae: 0.6042 - val_loss: 0.6880 - val_mae: 0.5704\n",
      "Epoch 3/20\n",
      "363/363 [==============================] - 0s 1ms/step - loss: 0.5934 - mae: 0.5618 - val_loss: 0.5803 - val_mae: 0.5352\n",
      "Epoch 4/20\n",
      "363/363 [==============================] - 0s 1ms/step - loss: 0.5557 - mae: 0.5398 - val_loss: 0.5166 - val_mae: 0.5207\n",
      "Epoch 5/20\n",
      "363/363 [==============================] - 0s 1ms/step - loss: 0.5272 - mae: 0.5237 - val_loss: 0.4895 - val_mae: 0.5022\n",
      "Epoch 6/20\n",
      "363/363 [==============================] - 1s 2ms/step - loss: 0.5033 - mae: 0.5113 - val_loss: 0.4951 - val_mae: 0.4934\n",
      "Epoch 7/20\n",
      "363/363 [==============================] - 0s 1ms/step - loss: 0.4854 - mae: 0.5010 - val_loss: 0.4861 - val_mae: 0.4838\n",
      "Epoch 8/20\n",
      "363/363 [==============================] - 0s 1ms/step - loss: 0.4709 - mae: 0.4924 - val_loss: 0.4554 - val_mae: 0.4753\n",
      "Epoch 9/20\n",
      "363/363 [==============================] - 0s 1ms/step - loss: 0.4578 - mae: 0.4857 - val_loss: 0.4413 - val_mae: 0.4671\n",
      "Epoch 10/20\n",
      "363/363 [==============================] - 1s 1ms/step - loss: 0.4474 - mae: 0.4797 - val_loss: 0.4379 - val_mae: 0.4623\n",
      "Epoch 11/20\n",
      "363/363 [==============================] - 1s 1ms/step - loss: 0.4393 - mae: 0.4744 - val_loss: 0.4396 - val_mae: 0.4638\n",
      "Epoch 12/20\n",
      "363/363 [==============================] - 0s 1ms/step - loss: 0.4318 - mae: 0.4703 - val_loss: 0.4507 - val_mae: 0.4573\n",
      "Epoch 13/20\n",
      "363/363 [==============================] - 0s 1ms/step - loss: 0.4261 - mae: 0.4674 - val_loss: 0.3997 - val_mae: 0.4517\n",
      "Epoch 14/20\n",
      "363/363 [==============================] - 0s 1ms/step - loss: 0.4202 - mae: 0.4636 - val_loss: 0.3956 - val_mae: 0.4497\n",
      "Epoch 15/20\n",
      "363/363 [==============================] - 1s 1ms/step - loss: 0.4155 - mae: 0.4613 - val_loss: 0.3916 - val_mae: 0.4464\n",
      "Epoch 16/20\n",
      "363/363 [==============================] - 0s 1ms/step - loss: 0.4112 - mae: 0.4591 - val_loss: 0.3937 - val_mae: 0.4445\n",
      "Epoch 17/20\n",
      "363/363 [==============================] - 0s 1ms/step - loss: 0.4077 - mae: 0.4569 - val_loss: 0.3809 - val_mae: 0.4390\n",
      "Epoch 18/20\n",
      "363/363 [==============================] - 1s 2ms/step - loss: 0.4040 - mae: 0.4545 - val_loss: 0.3793 - val_mae: 0.4368\n",
      "Epoch 19/20\n",
      "363/363 [==============================] - 1s 2ms/step - loss: 0.4004 - mae: 0.4521 - val_loss: 0.3850 - val_mae: 0.4369\n",
      "Epoch 20/20\n",
      "363/363 [==============================] - 1s 2ms/step - loss: 0.3980 - mae: 0.4508 - val_loss: 0.3809 - val_mae: 0.4368\n"
     ]
    }
   ],
   "source": [
    "model_history = model.fit(X_train, y_train, epochs=20, validation_data=(X_valid, y_valid))"
   ]
  },
  {
   "cell_type": "code",
   "execution_count": 14,
   "metadata": {},
   "outputs": [
    {
     "name": "stdout",
     "output_type": "stream",
     "text": [
      "162/162 [==============================] - 0s 791us/step - loss: 0.3942 - mae: 0.4502\n"
     ]
    }
   ],
   "source": [
    "mae_test = model.evaluate(X_test, y_test)\n"
   ]
  },
  {
   "cell_type": "code",
   "execution_count": 15,
   "metadata": {},
   "outputs": [
    {
     "data": {
      "text/plain": [
       "{'loss': [1.8866397142410278,\n",
       "  0.6577127575874329,\n",
       "  0.5934185981750488,\n",
       "  0.5557191967964172,\n",
       "  0.5271904468536377,\n",
       "  0.5032975673675537,\n",
       "  0.48535558581352234,\n",
       "  0.47091811895370483,\n",
       "  0.45779934525489807,\n",
       "  0.4474469721317291,\n",
       "  0.4393136501312256,\n",
       "  0.43176087737083435,\n",
       "  0.4260515868663788,\n",
       "  0.42017653584480286,\n",
       "  0.41549986600875854,\n",
       "  0.4111650586128235,\n",
       "  0.4077068865299225,\n",
       "  0.4039528965950012,\n",
       "  0.4004494547843933,\n",
       "  0.3979603350162506],\n",
       " 'mae': [0.9900256991386414,\n",
       "  0.6041510105133057,\n",
       "  0.5618006587028503,\n",
       "  0.5398454070091248,\n",
       "  0.5237293839454651,\n",
       "  0.5112562775611877,\n",
       "  0.5010154247283936,\n",
       "  0.492448091506958,\n",
       "  0.4857262969017029,\n",
       "  0.47973746061325073,\n",
       "  0.4744163453578949,\n",
       "  0.4703480303287506,\n",
       "  0.46740880608558655,\n",
       "  0.46360209584236145,\n",
       "  0.461266428232193,\n",
       "  0.4591343402862549,\n",
       "  0.4568699896335602,\n",
       "  0.45453646779060364,\n",
       "  0.4521065056324005,\n",
       "  0.45083147287368774],\n",
       " 'val_loss': [0.7126054167747498,\n",
       "  0.6880087852478027,\n",
       "  0.5803284645080566,\n",
       "  0.5166085362434387,\n",
       "  0.4895075559616089,\n",
       "  0.49507936835289,\n",
       "  0.48612502217292786,\n",
       "  0.45538002252578735,\n",
       "  0.441336989402771,\n",
       "  0.4378639757633209,\n",
       "  0.4396442174911499,\n",
       "  0.4506688117980957,\n",
       "  0.3997235596179962,\n",
       "  0.39558935165405273,\n",
       "  0.391572505235672,\n",
       "  0.3936830759048462,\n",
       "  0.38094857335090637,\n",
       "  0.37934744358062744,\n",
       "  0.3850174844264984,\n",
       "  0.38094642758369446],\n",
       " 'val_mae': [0.6368111968040466,\n",
       "  0.5703656077384949,\n",
       "  0.5351505279541016,\n",
       "  0.5206613540649414,\n",
       "  0.5022227168083191,\n",
       "  0.4933752119541168,\n",
       "  0.4838489592075348,\n",
       "  0.47527745366096497,\n",
       "  0.46705931425094604,\n",
       "  0.46234601736068726,\n",
       "  0.46377918124198914,\n",
       "  0.4572649896144867,\n",
       "  0.45166537165641785,\n",
       "  0.4496610760688782,\n",
       "  0.446370005607605,\n",
       "  0.4444963037967682,\n",
       "  0.43897414207458496,\n",
       "  0.43681108951568604,\n",
       "  0.4369050860404968,\n",
       "  0.4367615878582001]}"
      ]
     },
     "execution_count": 15,
     "metadata": {},
     "output_type": "execute_result"
    }
   ],
   "source": [
    "model_history.history"
   ]
  },
  {
   "cell_type": "code",
   "execution_count": 16,
   "metadata": {},
   "outputs": [
    {
     "data": {
      "image/png": "[encoded data removed]",
      "text/plain": [
       "<Figure size 576x360 with 1 Axes>"
      ]
     },
     "metadata": {
      "needs_background": "light"
     },
     "output_type": "display_data"
    }
   ],
   "source": [
    "pd.DataFrame(model_history.history).plot(figsize=(8, 5))\n",
    "plt.grid(True)\n",
    "plt.gca().set_ylim(0, 1)\n",
    "\n",
    "plt.show()"
   ]
  },
  {
   "cell_type": "code",
   "execution_count": 17,
   "metadata": {},
   "outputs": [],
   "source": [
    "X_new = X_test[:3]"
   ]
  },
  {
   "cell_type": "code",
   "execution_count": 18,
   "metadata": {},
   "outputs": [
    {
     "name": "stdout",
     "output_type": "stream",
     "text": [
      "[[0.53287673]\n",
      " [1.8915398 ]\n",
      " [3.404087  ]]\n",
      "[0.477   0.458   5.00001]\n"
     ]
    }
   ],
   "source": [
    "y_pred = model.predict(X_new)\n",
    "print (y_pred)\n",
    "print(y_test[:3])"
   ]
  },
  {
   "cell_type": "code",
   "execution_count": 23,
   "metadata": {},
   "outputs": [],
   "source": [
    "del model"
   ]
  },
  {
   "cell_type": "code",
   "execution_count": null,
   "metadata": {},
   "outputs": [],
   "source": []
  },
  {
   "cell_type": "code",
   "execution_count": null,
   "metadata": {},
   "outputs": [],
   "source": []
  },
  {
   "cell_type": "code",
   "execution_count": null,
   "metadata": {},
   "outputs": [],
   "source": []
  },
  {
   "cell_type": "code",
   "execution_count": null,
   "metadata": {},
   "outputs": [],
   "source": []
  },
  {
   "cell_type": "code",
   "execution_count": null,
   "metadata": {},
   "outputs": [],
   "source": []
  },
  {
   "cell_type": "code",
   "execution_count": null,
   "metadata": {},
   "outputs": [],
   "source": []
  },
  {
   "cell_type": "code",
   "execution_count": null,
   "metadata": {},
   "outputs": [],
   "source": []
  },
  {
   "cell_type": "code",
   "execution_count": null,
   "metadata": {},
   "outputs": [],
   "source": []
  },
  {
   "cell_type": "code",
   "execution_count": 19,
   "metadata": {},
   "outputs": [],
   "source": [
    "del model"
   ]
  },
  {
   "cell_type": "code",
   "execution_count": 20,
   "metadata": {},
   "outputs": [],
   "source": [
    "keras.backend.clear_session()"
   ]
  },
  {
   "cell_type": "markdown",
   "metadata": {},
   "source": [
    "# Functional API"
   ]
  },
  {
   "cell_type": "markdown",
   "metadata": {},
   "source": [
    "Not all neural network models are simply sequential. Some may have complex topologies. Some may have multiple inputs and/or multiple outputs. For example, a Wide & Deep neural network (see [paper](https://ai.google/research/pubs/pub45413)) connects all or part of the inputs directly to the output layer.\n",
    "\n",
    "![](Functional.JPG \"Title\")"
   ]
  },
  {
   "cell_type": "code",
   "execution_count": 21,
   "metadata": {},
   "outputs": [],
   "source": [
    "input_ = keras.layers.Input(shape=X_train.shape[1:])\n",
    "hidden1 = keras.layers.Dense(30, activation=\"relu\")(input_)\n",
    "hidden2 = keras.layers.Dense(30, activation=\"relu\")(hidden1)\n",
    "concat = keras.layers.concatenate([input_, hidden2])\n",
    "output = keras.layers.Dense(1)(concat)\n",
    "model = keras.models.Model(inputs=[input_], outputs=[output])"
   ]
  },
  {
   "cell_type": "code",
   "execution_count": 22,
   "metadata": {},
   "outputs": [
    {
     "name": "stdout",
     "output_type": "stream",
     "text": [
      "Model: \"model\"\n",
      "__________________________________________________________________________________________________\n",
      "Layer (type)                    Output Shape         Param #     Connected to                     \n",
      "==================================================================================================\n",
      "input_1 (InputLayer)            [(None, 8)]          0                                            \n",
      "__________________________________________________________________________________________________\n",
      "dense (Dense)                   (None, 30)           270         input_1[0][0]                    \n",
      "__________________________________________________________________________________________________\n",
      "dense_1 (Dense)                 (None, 30)           930         dense[0][0]                      \n",
      "__________________________________________________________________________________________________\n",
      "concatenate (Concatenate)       (None, 38)           0           input_1[0][0]                    \n",
      "                                                                 dense_1[0][0]                    \n",
      "__________________________________________________________________________________________________\n",
      "dense_2 (Dense)                 (None, 1)            39          concatenate[0][0]                \n",
      "==================================================================================================\n",
      "Total params: 1,239\n",
      "Trainable params: 1,239\n",
      "Non-trainable params: 0\n",
      "__________________________________________________________________________________________________\n"
     ]
    }
   ],
   "source": [
    "model.summary()"
   ]
  },
  {
   "cell_type": "code",
   "execution_count": 23,
   "metadata": {},
   "outputs": [],
   "source": [
    "model.compile(loss=\"mean_squared_error\", \n",
    "              optimizer=keras.optimizers.SGD(lr=1e-3), \n",
    "              metrics=['mae'])"
   ]
  },
  {
   "cell_type": "code",
   "execution_count": 24,
   "metadata": {},
   "outputs": [
    {
     "name": "stdout",
     "output_type": "stream",
     "text": [
      "Epoch 1/80\n",
      "363/363 [==============================] - 1s 2ms/step - loss: 1.6920 - mae: 0.8893 - val_loss: 0.8798 - val_mae: 0.6026\n",
      "Epoch 2/80\n",
      "363/363 [==============================] - 0s 1ms/step - loss: 0.6836 - mae: 0.5994 - val_loss: 0.6420 - val_mae: 0.5764\n",
      "Epoch 3/80\n",
      "363/363 [==============================] - 0s 1ms/step - loss: 0.6265 - mae: 0.5775 - val_loss: 0.5891 - val_mae: 0.5503\n",
      "Epoch 4/80\n",
      "363/363 [==============================] - 0s 1ms/step - loss: 0.5877 - mae: 0.5581 - val_loss: 0.5455 - val_mae: 0.5343\n",
      "Epoch 5/80\n",
      "363/363 [==============================] - 0s 1ms/step - loss: 0.5566 - mae: 0.5421 - val_loss: 0.5409 - val_mae: 0.5202\n",
      "Epoch 6/80\n",
      "363/363 [==============================] - 0s 1ms/step - loss: 0.5312 - mae: 0.5298 - val_loss: 0.4903 - val_mae: 0.5046\n",
      "Epoch 7/80\n",
      "363/363 [==============================] - 0s 1ms/step - loss: 0.5108 - mae: 0.5186 - val_loss: 0.4728 - val_mae: 0.4962\n",
      "Epoch 8/80\n",
      "363/363 [==============================] - 0s 1ms/step - loss: 0.4952 - mae: 0.5096 - val_loss: 0.5017 - val_mae: 0.4921\n",
      "Epoch 9/80\n",
      "363/363 [==============================] - 0s 1ms/step - loss: 0.4802 - mae: 0.5025 - val_loss: 0.4511 - val_mae: 0.4811\n",
      "Epoch 10/80\n",
      "363/363 [==============================] - 0s 1ms/step - loss: 0.4685 - mae: 0.4959 - val_loss: 0.4330 - val_mae: 0.4735\n",
      "Epoch 11/80\n",
      "363/363 [==============================] - 0s 1ms/step - loss: 0.4590 - mae: 0.4897 - val_loss: 0.4991 - val_mae: 0.4778\n",
      "Epoch 12/80\n",
      "363/363 [==============================] - 0s 1ms/step - loss: 0.4502 - mae: 0.4851 - val_loss: 0.4179 - val_mae: 0.4658\n",
      "Epoch 13/80\n",
      "363/363 [==============================] - 1s 1ms/step - loss: 0.4433 - mae: 0.4811 - val_loss: 0.4409 - val_mae: 0.4658\n",
      "Epoch 14/80\n",
      "363/363 [==============================] - 1s 2ms/step - loss: 0.4363 - mae: 0.4766 - val_loss: 0.4239 - val_mae: 0.4621\n",
      "Epoch 15/80\n",
      "363/363 [==============================] - 1s 1ms/step - loss: 0.4306 - mae: 0.4736 - val_loss: 0.4480 - val_mae: 0.4601\n",
      "Epoch 16/80\n",
      "363/363 [==============================] - 1s 2ms/step - loss: 0.4253 - mae: 0.4703 - val_loss: 0.4113 - val_mae: 0.4550\n",
      "Epoch 17/80\n",
      "363/363 [==============================] - 1s 2ms/step - loss: 0.4213 - mae: 0.4676 - val_loss: 0.4454 - val_mae: 0.4538\n",
      "Epoch 18/80\n",
      "363/363 [==============================] - 1s 1ms/step - loss: 0.4168 - mae: 0.4650 - val_loss: 0.4538 - val_mae: 0.4518\n",
      "Epoch 19/80\n",
      "363/363 [==============================] - 1s 1ms/step - loss: 0.4126 - mae: 0.4616 - val_loss: 0.4084 - val_mae: 0.4477\n",
      "Epoch 20/80\n",
      "363/363 [==============================] - 1s 2ms/step - loss: 0.4096 - mae: 0.4600 - val_loss: 0.4581 - val_mae: 0.4505\n",
      "Epoch 21/80\n",
      "363/363 [==============================] - 1s 2ms/step - loss: 0.4060 - mae: 0.4573 - val_loss: 0.4267 - val_mae: 0.4487\n",
      "Epoch 22/80\n",
      "363/363 [==============================] - 1s 1ms/step - loss: 0.4029 - mae: 0.4559 - val_loss: 0.4677 - val_mae: 0.4485\n",
      "Epoch 23/80\n",
      "363/363 [==============================] - 1s 2ms/step - loss: 0.4000 - mae: 0.4542 - val_loss: 0.3940 - val_mae: 0.4390\n",
      "Epoch 24/80\n",
      "363/363 [==============================] - 1s 1ms/step - loss: 0.3972 - mae: 0.4515 - val_loss: 0.4277 - val_mae: 0.4410\n",
      "Epoch 25/80\n",
      "363/363 [==============================] - 1s 1ms/step - loss: 0.3946 - mae: 0.4502 - val_loss: 0.4414 - val_mae: 0.4412\n",
      "Epoch 26/80\n",
      "363/363 [==============================] - 0s 1ms/step - loss: 0.3925 - mae: 0.4488 - val_loss: 0.4365 - val_mae: 0.4393\n",
      "Epoch 27/80\n",
      "363/363 [==============================] - 0s 1ms/step - loss: 0.3905 - mae: 0.4472 - val_loss: 0.3854 - val_mae: 0.4354\n",
      "Epoch 28/80\n",
      "363/363 [==============================] - 0s 1ms/step - loss: 0.3885 - mae: 0.4455 - val_loss: 0.4330 - val_mae: 0.4401\n",
      "Epoch 29/80\n",
      "363/363 [==============================] - 0s 1ms/step - loss: 0.3867 - mae: 0.4448 - val_loss: 0.4135 - val_mae: 0.4373\n",
      "Epoch 30/80\n",
      "363/363 [==============================] - 0s 1ms/step - loss: 0.3848 - mae: 0.4435 - val_loss: 0.4344 - val_mae: 0.4358\n",
      "Epoch 31/80\n",
      "363/363 [==============================] - 0s 1ms/step - loss: 0.3830 - mae: 0.4420 - val_loss: 0.4016 - val_mae: 0.4332\n",
      "Epoch 32/80\n",
      "363/363 [==============================] - 0s 1ms/step - loss: 0.3816 - mae: 0.4410 - val_loss: 0.4459 - val_mae: 0.4380\n",
      "Epoch 33/80\n",
      "363/363 [==============================] - 0s 1ms/step - loss: 0.3805 - mae: 0.4408 - val_loss: 0.3867 - val_mae: 0.4319\n",
      "Epoch 34/80\n",
      "363/363 [==============================] - 1s 2ms/step - loss: 0.3787 - mae: 0.4393 - val_loss: 0.3923 - val_mae: 0.4323\n",
      "Epoch 35/80\n",
      "363/363 [==============================] - 1s 2ms/step - loss: 0.3776 - mae: 0.4383 - val_loss: 0.4512 - val_mae: 0.4358\n",
      "Epoch 36/80\n",
      "363/363 [==============================] - 1s 1ms/step - loss: 0.3763 - mae: 0.4379 - val_loss: 0.3639 - val_mae: 0.4268\n",
      "Epoch 37/80\n",
      "363/363 [==============================] - 1s 2ms/step - loss: 0.3751 - mae: 0.4365 - val_loss: 0.4068 - val_mae: 0.4309\n",
      "Epoch 38/80\n",
      "363/363 [==============================] - 1s 1ms/step - loss: 0.3741 - mae: 0.4362 - val_loss: 0.3776 - val_mae: 0.4276\n",
      "Epoch 39/80\n",
      "363/363 [==============================] - 1s 2ms/step - loss: 0.3728 - mae: 0.4352 - val_loss: 0.3774 - val_mae: 0.4266\n",
      "Epoch 40/80\n",
      "363/363 [==============================] - 1s 1ms/step - loss: 0.3716 - mae: 0.4345 - val_loss: 0.3917 - val_mae: 0.4260\n",
      "Epoch 41/80\n",
      "363/363 [==============================] - 1s 1ms/step - loss: 0.3710 - mae: 0.4335 - val_loss: 0.4055 - val_mae: 0.4283\n",
      "Epoch 42/80\n",
      "363/363 [==============================] - 1s 2ms/step - loss: 0.3703 - mae: 0.4335 - val_loss: 0.4084 - val_mae: 0.4275\n",
      "Epoch 43/80\n",
      "363/363 [==============================] - 1s 2ms/step - loss: 0.3690 - mae: 0.4321 - val_loss: 0.4129 - val_mae: 0.4271\n",
      "Epoch 44/80\n",
      "363/363 [==============================] - 0s 1ms/step - loss: 0.3680 - mae: 0.4314 - val_loss: 0.4302 - val_mae: 0.4296\n",
      "Epoch 45/80\n",
      "363/363 [==============================] - 0s 1ms/step - loss: 0.3677 - mae: 0.4317 - val_loss: 0.3713 - val_mae: 0.4226\n",
      "Epoch 46/80\n",
      "363/363 [==============================] - 0s 1ms/step - loss: 0.3664 - mae: 0.4298 - val_loss: 0.3867 - val_mae: 0.4253\n",
      "Epoch 47/80\n",
      "363/363 [==============================] - 0s 1ms/step - loss: 0.3657 - mae: 0.4303 - val_loss: 0.3763 - val_mae: 0.4221\n",
      "Epoch 48/80\n",
      "363/363 [==============================] - 0s 1ms/step - loss: 0.3648 - mae: 0.4289 - val_loss: 0.4181 - val_mae: 0.4262\n",
      "Epoch 49/80\n",
      "363/363 [==============================] - 0s 1ms/step - loss: 0.3646 - mae: 0.4290 - val_loss: 0.3607 - val_mae: 0.4219\n",
      "Epoch 50/80\n",
      "363/363 [==============================] - 0s 1ms/step - loss: 0.3633 - mae: 0.4282 - val_loss: 0.3506 - val_mae: 0.4189\n",
      "Epoch 51/80\n",
      "363/363 [==============================] - 0s 1ms/step - loss: 0.3625 - mae: 0.4271 - val_loss: 0.4003 - val_mae: 0.4252\n",
      "Epoch 52/80\n",
      "363/363 [==============================] - 1s 1ms/step - loss: 0.3619 - mae: 0.4272 - val_loss: 0.3504 - val_mae: 0.4176\n",
      "Epoch 53/80\n",
      "363/363 [==============================] - 1s 2ms/step - loss: 0.3611 - mae: 0.4263 - val_loss: 0.4271 - val_mae: 0.4234\n",
      "Epoch 54/80\n",
      "363/363 [==============================] - 1s 2ms/step - loss: 0.3606 - mae: 0.4259 - val_loss: 0.3470 - val_mae: 0.4186\n",
      "Epoch 55/80\n",
      "363/363 [==============================] - 1s 2ms/step - loss: 0.3598 - mae: 0.4258 - val_loss: 0.3646 - val_mae: 0.4183\n",
      "Epoch 56/80\n",
      "363/363 [==============================] - 1s 1ms/step - loss: 0.3590 - mae: 0.4248 - val_loss: 0.3639 - val_mae: 0.4185\n",
      "Epoch 57/80\n",
      "363/363 [==============================] - 1s 1ms/step - loss: 0.3584 - mae: 0.4246 - val_loss: 0.3477 - val_mae: 0.4157\n",
      "Epoch 58/80\n",
      "363/363 [==============================] - 0s 1ms/step - loss: 0.3576 - mae: 0.4236 - val_loss: 0.4116 - val_mae: 0.4197\n",
      "Epoch 59/80\n",
      "363/363 [==============================] - 0s 1ms/step - loss: 0.3575 - mae: 0.4237 - val_loss: 0.3816 - val_mae: 0.4192\n",
      "Epoch 60/80\n",
      "363/363 [==============================] - 0s 1ms/step - loss: 0.3567 - mae: 0.4231 - val_loss: 0.3610 - val_mae: 0.4184\n",
      "Epoch 61/80\n",
      "363/363 [==============================] - 0s 1ms/step - loss: 0.3557 - mae: 0.4223 - val_loss: 0.3887 - val_mae: 0.4229\n",
      "Epoch 62/80\n",
      "363/363 [==============================] - 0s 1ms/step - loss: 0.3556 - mae: 0.4225 - val_loss: 0.3694 - val_mae: 0.4167\n",
      "Epoch 63/80\n",
      "363/363 [==============================] - 0s 1ms/step - loss: 0.3543 - mae: 0.4214 - val_loss: 0.3630 - val_mae: 0.4180\n",
      "Epoch 64/80\n",
      "363/363 [==============================] - 0s 1ms/step - loss: 0.3544 - mae: 0.4217 - val_loss: 0.3432 - val_mae: 0.4145\n",
      "Epoch 65/80\n",
      "363/363 [==============================] - 1s 1ms/step - loss: 0.3537 - mae: 0.4213 - val_loss: 0.3550 - val_mae: 0.4144\n",
      "Epoch 66/80\n",
      "363/363 [==============================] - 1s 1ms/step - loss: 0.3530 - mae: 0.4206 - val_loss: 0.3571 - val_mae: 0.4142\n",
      "Epoch 67/80\n",
      "363/363 [==============================] - 1s 2ms/step - loss: 0.3524 - mae: 0.4202 - val_loss: 0.3724 - val_mae: 0.4162\n",
      "Epoch 68/80\n",
      "363/363 [==============================] - 1s 1ms/step - loss: 0.3520 - mae: 0.4198 - val_loss: 0.3612 - val_mae: 0.4137\n",
      "Epoch 69/80\n",
      "363/363 [==============================] - 1s 2ms/step - loss: 0.3515 - mae: 0.4189 - val_loss: 0.3507 - val_mae: 0.4146\n",
      "Epoch 70/80\n",
      "363/363 [==============================] - 1s 1ms/step - loss: 0.3506 - mae: 0.4192 - val_loss: 0.3819 - val_mae: 0.4138\n",
      "Epoch 71/80\n",
      "363/363 [==============================] - 1s 2ms/step - loss: 0.3507 - mae: 0.4188 - val_loss: 0.3770 - val_mae: 0.4150\n",
      "Epoch 72/80\n",
      "363/363 [==============================] - 1s 2ms/step - loss: 0.3500 - mae: 0.4185 - val_loss: 0.3629 - val_mae: 0.4125\n",
      "Epoch 73/80\n",
      "363/363 [==============================] - 1s 2ms/step - loss: 0.3490 - mae: 0.4179 - val_loss: 0.3357 - val_mae: 0.4089\n",
      "Epoch 74/80\n",
      "363/363 [==============================] - 1s 2ms/step - loss: 0.3492 - mae: 0.4176 - val_loss: 0.3912 - val_mae: 0.4142\n",
      "Epoch 75/80\n",
      "363/363 [==============================] - 1s 2ms/step - loss: 0.3484 - mae: 0.4168 - val_loss: 0.3896 - val_mae: 0.4159\n",
      "Epoch 76/80\n",
      "363/363 [==============================] - 1s 2ms/step - loss: 0.3481 - mae: 0.4171 - val_loss: 0.3493 - val_mae: 0.4099\n",
      "Epoch 77/80\n",
      "363/363 [==============================] - 1s 2ms/step - loss: 0.3472 - mae: 0.4159 - val_loss: 0.3890 - val_mae: 0.4151\n",
      "Epoch 78/80\n",
      "363/363 [==============================] - 1s 2ms/step - loss: 0.3469 - mae: 0.4166 - val_loss: 0.3658 - val_mae: 0.4123\n",
      "Epoch 79/80\n",
      "363/363 [==============================] - 1s 2ms/step - loss: 0.3463 - mae: 0.4157 - val_loss: 0.3640 - val_mae: 0.4115\n",
      "Epoch 80/80\n",
      "363/363 [==============================] - 1s 2ms/step - loss: 0.3458 - mae: 0.4156 - val_loss: 0.3647 - val_mae: 0.4104\n"
     ]
    }
   ],
   "source": [
    "model_history = model.fit(X_train, y_train, epochs=80, validation_data=(X_valid, y_valid))"
   ]
  },
  {
   "cell_type": "code",
   "execution_count": 25,
   "metadata": {},
   "outputs": [
    {
     "name": "stdout",
     "output_type": "stream",
     "text": [
      "162/162 [==============================] - 0s 1ms/step - loss: 0.3453 - mae: 0.4147\n"
     ]
    }
   ],
   "source": [
    "mae_test = model.evaluate(X_test, y_test)\n"
   ]
  },
  {
   "cell_type": "code",
   "execution_count": 26,
   "metadata": {},
   "outputs": [
    {
     "data": {
      "text/plain": [
       "{'loss': [1.6920058727264404,\n",
       "  0.6836402416229248,\n",
       "  0.626488208770752,\n",
       "  0.5877465605735779,\n",
       "  0.5565561056137085,\n",
       "  0.5311981439590454,\n",
       "  0.5107864141464233,\n",
       "  0.4951668083667755,\n",
       "  0.48022276163101196,\n",
       "  0.4684668779373169,\n",
       "  0.4589638411998749,\n",
       "  0.4502205550670624,\n",
       "  0.4432658851146698,\n",
       "  0.43632543087005615,\n",
       "  0.4306245744228363,\n",
       "  0.4253448247909546,\n",
       "  0.42129331827163696,\n",
       "  0.4168177843093872,\n",
       "  0.4126453101634979,\n",
       "  0.40958571434020996,\n",
       "  0.4059634208679199,\n",
       "  0.40294399857521057,\n",
       "  0.4000455439090729,\n",
       "  0.3971884846687317,\n",
       "  0.3946215510368347,\n",
       "  0.3924905061721802,\n",
       "  0.3904934525489807,\n",
       "  0.38845309615135193,\n",
       "  0.38671210408210754,\n",
       "  0.38484567403793335,\n",
       "  0.382953941822052,\n",
       "  0.3815852701663971,\n",
       "  0.3805288076400757,\n",
       "  0.37870272994041443,\n",
       "  0.3775632083415985,\n",
       "  0.3763015866279602,\n",
       "  0.37508344650268555,\n",
       "  0.37408941984176636,\n",
       "  0.3728184998035431,\n",
       "  0.37164586782455444,\n",
       "  0.3710441291332245,\n",
       "  0.3702850639820099,\n",
       "  0.3690377473831177,\n",
       "  0.3680499196052551,\n",
       "  0.36772873997688293,\n",
       "  0.3663526773452759,\n",
       "  0.3656567931175232,\n",
       "  0.36475008726119995,\n",
       "  0.3645521402359009,\n",
       "  0.3632611036300659,\n",
       "  0.3624866306781769,\n",
       "  0.36190858483314514,\n",
       "  0.3611178398132324,\n",
       "  0.3606109321117401,\n",
       "  0.35981082916259766,\n",
       "  0.35896816849708557,\n",
       "  0.35839560627937317,\n",
       "  0.35761457681655884,\n",
       "  0.3574765920639038,\n",
       "  0.35667166113853455,\n",
       "  0.3556620478630066,\n",
       "  0.35561320185661316,\n",
       "  0.3542900085449219,\n",
       "  0.35437506437301636,\n",
       "  0.3537198007106781,\n",
       "  0.35298702120780945,\n",
       "  0.35240238904953003,\n",
       "  0.3519890010356903,\n",
       "  0.35154446959495544,\n",
       "  0.3506361246109009,\n",
       "  0.35070618987083435,\n",
       "  0.3499550521373749,\n",
       "  0.3490322232246399,\n",
       "  0.34921225905418396,\n",
       "  0.3483882546424866,\n",
       "  0.3480888307094574,\n",
       "  0.3472102880477905,\n",
       "  0.3469077944755554,\n",
       "  0.34629854559898376,\n",
       "  0.34584319591522217],\n",
       " 'mae': [0.8892966508865356,\n",
       "  0.5993583798408508,\n",
       "  0.577479362487793,\n",
       "  0.5581423044204712,\n",
       "  0.542133629322052,\n",
       "  0.5297517776489258,\n",
       "  0.518592119216919,\n",
       "  0.5096290111541748,\n",
       "  0.502535879611969,\n",
       "  0.49592792987823486,\n",
       "  0.4896959960460663,\n",
       "  0.4850703179836273,\n",
       "  0.48114877939224243,\n",
       "  0.47657036781311035,\n",
       "  0.47358450293540955,\n",
       "  0.4702606499195099,\n",
       "  0.4675999581813812,\n",
       "  0.4649639427661896,\n",
       "  0.46159064769744873,\n",
       "  0.46004417538642883,\n",
       "  0.45733100175857544,\n",
       "  0.4559226632118225,\n",
       "  0.45419758558273315,\n",
       "  0.45146194100379944,\n",
       "  0.4502381384372711,\n",
       "  0.4487718939781189,\n",
       "  0.4472378194332123,\n",
       "  0.4455063045024872,\n",
       "  0.4448150098323822,\n",
       "  0.4435017704963684,\n",
       "  0.44200778007507324,\n",
       "  0.44095417857170105,\n",
       "  0.44078654050827026,\n",
       "  0.43926259875297546,\n",
       "  0.4382910430431366,\n",
       "  0.437866747379303,\n",
       "  0.43653440475463867,\n",
       "  0.4362226128578186,\n",
       "  0.43521836400032043,\n",
       "  0.434486448764801,\n",
       "  0.4334586262702942,\n",
       "  0.433453232049942,\n",
       "  0.43214094638824463,\n",
       "  0.4314310550689697,\n",
       "  0.431740939617157,\n",
       "  0.4297661781311035,\n",
       "  0.4303135871887207,\n",
       "  0.4289473295211792,\n",
       "  0.42897510528564453,\n",
       "  0.4281576871871948,\n",
       "  0.42705175280570984,\n",
       "  0.427164763212204,\n",
       "  0.42630451917648315,\n",
       "  0.4258606433868408,\n",
       "  0.4257575571537018,\n",
       "  0.42481574416160583,\n",
       "  0.42457160353660583,\n",
       "  0.42364516854286194,\n",
       "  0.4236850440502167,\n",
       "  0.4231049418449402,\n",
       "  0.4223303496837616,\n",
       "  0.422539085149765,\n",
       "  0.4214128851890564,\n",
       "  0.42169153690338135,\n",
       "  0.42134612798690796,\n",
       "  0.42063108086586,\n",
       "  0.4201672077178955,\n",
       "  0.4198208153247833,\n",
       "  0.4188825190067291,\n",
       "  0.41920867562294006,\n",
       "  0.4187959134578705,\n",
       "  0.41851726174354553,\n",
       "  0.41794368624687195,\n",
       "  0.41759851574897766,\n",
       "  0.4168240427970886,\n",
       "  0.41711848974227905,\n",
       "  0.41589853167533875,\n",
       "  0.4165548086166382,\n",
       "  0.41572532057762146,\n",
       "  0.4156080484390259],\n",
       " 'val_loss': [0.879798412322998,\n",
       "  0.6420255303382874,\n",
       "  0.589079737663269,\n",
       "  0.54546719789505,\n",
       "  0.5408935546875,\n",
       "  0.4903125464916229,\n",
       "  0.4728316068649292,\n",
       "  0.501725971698761,\n",
       "  0.4510645270347595,\n",
       "  0.4330178201198578,\n",
       "  0.4991108775138855,\n",
       "  0.4179282784461975,\n",
       "  0.44088947772979736,\n",
       "  0.4238838851451874,\n",
       "  0.44802573323249817,\n",
       "  0.41133469343185425,\n",
       "  0.4454157054424286,\n",
       "  0.4537522494792938,\n",
       "  0.40842992067337036,\n",
       "  0.45807087421417236,\n",
       "  0.42670390009880066,\n",
       "  0.4677491784095764,\n",
       "  0.3939913213253021,\n",
       "  0.42766517400741577,\n",
       "  0.4414198696613312,\n",
       "  0.43654635548591614,\n",
       "  0.3854181170463562,\n",
       "  0.43296656012535095,\n",
       "  0.41352131962776184,\n",
       "  0.4344019591808319,\n",
       "  0.4016211926937103,\n",
       "  0.44587454199790955,\n",
       "  0.38666361570358276,\n",
       "  0.3922908902168274,\n",
       "  0.45124000310897827,\n",
       "  0.36393219232559204,\n",
       "  0.40683016180992126,\n",
       "  0.37758561968803406,\n",
       "  0.37742453813552856,\n",
       "  0.39174848794937134,\n",
       "  0.40553832054138184,\n",
       "  0.4083700478076935,\n",
       "  0.41288110613822937,\n",
       "  0.4301919937133789,\n",
       "  0.37131255865097046,\n",
       "  0.3867442309856415,\n",
       "  0.37633368372917175,\n",
       "  0.4181278944015503,\n",
       "  0.36066505312919617,\n",
       "  0.35056760907173157,\n",
       "  0.4002556800842285,\n",
       "  0.350397527217865,\n",
       "  0.42705559730529785,\n",
       "  0.34700748324394226,\n",
       "  0.36456090211868286,\n",
       "  0.3638899326324463,\n",
       "  0.3477461338043213,\n",
       "  0.4116068184375763,\n",
       "  0.3815837800502777,\n",
       "  0.36096861958503723,\n",
       "  0.38872382044792175,\n",
       "  0.3694118559360504,\n",
       "  0.3630048334598541,\n",
       "  0.34321126341819763,\n",
       "  0.3549686372280121,\n",
       "  0.3571005165576935,\n",
       "  0.3724052309989929,\n",
       "  0.3612089157104492,\n",
       "  0.35072705149650574,\n",
       "  0.38194358348846436,\n",
       "  0.376956582069397,\n",
       "  0.36286312341690063,\n",
       "  0.33566561341285706,\n",
       "  0.3911961019039154,\n",
       "  0.3896256685256958,\n",
       "  0.34925106167793274,\n",
       "  0.38904210925102234,\n",
       "  0.36581945419311523,\n",
       "  0.3639741837978363,\n",
       "  0.36469021439552307],\n",
       " 'val_mae': [0.6026318073272705,\n",
       "  0.5763723850250244,\n",
       "  0.5502772331237793,\n",
       "  0.534281313419342,\n",
       "  0.5201656818389893,\n",
       "  0.5045694708824158,\n",
       "  0.4961996078491211,\n",
       "  0.49206575751304626,\n",
       "  0.4810589551925659,\n",
       "  0.4734765291213989,\n",
       "  0.477807879447937,\n",
       "  0.4658489227294922,\n",
       "  0.4657770097255707,\n",
       "  0.4620634913444519,\n",
       "  0.4600689709186554,\n",
       "  0.4549534022808075,\n",
       "  0.4538327157497406,\n",
       "  0.45184817910194397,\n",
       "  0.447709858417511,\n",
       "  0.45054298639297485,\n",
       "  0.44869187474250793,\n",
       "  0.44846779108047485,\n",
       "  0.43899068236351013,\n",
       "  0.44097667932510376,\n",
       "  0.4411579668521881,\n",
       "  0.4393341541290283,\n",
       "  0.4353789985179901,\n",
       "  0.4401053786277771,\n",
       "  0.43728482723236084,\n",
       "  0.43582433462142944,\n",
       "  0.4331952929496765,\n",
       "  0.43800055980682373,\n",
       "  0.43194642663002014,\n",
       "  0.43225976824760437,\n",
       "  0.43577852845191956,\n",
       "  0.4268355071544647,\n",
       "  0.43091410398483276,\n",
       "  0.42763426899909973,\n",
       "  0.42661288380622864,\n",
       "  0.42602092027664185,\n",
       "  0.42825576663017273,\n",
       "  0.4275436997413635,\n",
       "  0.4270738959312439,\n",
       "  0.42963021993637085,\n",
       "  0.42259830236434937,\n",
       "  0.42528218030929565,\n",
       "  0.42213505506515503,\n",
       "  0.42624202370643616,\n",
       "  0.42187872529029846,\n",
       "  0.41885578632354736,\n",
       "  0.42524489760398865,\n",
       "  0.41758522391319275,\n",
       "  0.42344924807548523,\n",
       "  0.418612003326416,\n",
       "  0.4182511866092682,\n",
       "  0.41851353645324707,\n",
       "  0.4156703054904938,\n",
       "  0.4197121858596802,\n",
       "  0.41915062069892883,\n",
       "  0.41838160157203674,\n",
       "  0.42290201783180237,\n",
       "  0.4166620373725891,\n",
       "  0.4179959297180176,\n",
       "  0.41445526480674744,\n",
       "  0.41435033082962036,\n",
       "  0.41423559188842773,\n",
       "  0.41622620820999146,\n",
       "  0.4136500060558319,\n",
       "  0.414570689201355,\n",
       "  0.4137713313102722,\n",
       "  0.41499942541122437,\n",
       "  0.4125464856624603,\n",
       "  0.40888261795043945,\n",
       "  0.4141598045825958,\n",
       "  0.4158916175365448,\n",
       "  0.4098873436450958,\n",
       "  0.41514164209365845,\n",
       "  0.412333220243454,\n",
       "  0.4114653468132019,\n",
       "  0.41036325693130493]}"
      ]
     },
     "execution_count": 26,
     "metadata": {},
     "output_type": "execute_result"
    }
   ],
   "source": [
    "model_history.history"
   ]
  },
  {
   "cell_type": "code",
   "execution_count": 27,
   "metadata": {},
   "outputs": [
    {
     "data": {
      "image/png": "[encoded data removed]",
      "text/plain": [
       "<Figure size 576x360 with 1 Axes>"
      ]
     },
     "metadata": {
      "needs_background": "light"
     },
     "output_type": "display_data"
    }
   ],
   "source": [
    "pd.DataFrame(model_history.history).plot(figsize=(8, 5))\n",
    "plt.grid(True)\n",
    "plt.gca().set_ylim(0, 1)\n",
    "\n",
    "plt.show()"
   ]
  },
  {
   "cell_type": "code",
   "execution_count": null,
   "metadata": {},
   "outputs": [],
   "source": []
  },
  {
   "cell_type": "code",
   "execution_count": null,
   "metadata": {},
   "outputs": [],
   "source": []
  },
  {
   "cell_type": "code",
   "execution_count": null,
   "metadata": {},
   "outputs": [],
   "source": []
  },
  {
   "cell_type": "code",
   "execution_count": null,
   "metadata": {},
   "outputs": [],
   "source": []
  },
  {
   "cell_type": "code",
   "execution_count": null,
   "metadata": {},
   "outputs": [],
   "source": []
  },
  {
   "cell_type": "code",
   "execution_count": 48,
   "metadata": {},
   "outputs": [
    {
     "data": {
      "text/plain": [
       "'C:\\\\Users\\\\pukhr'"
      ]
     },
     "execution_count": 48,
     "metadata": {},
     "output_type": "execute_result"
    }
   ],
   "source": [
    "%pwd"
   ]
  },
  {
   "cell_type": "code",
   "execution_count": 47,
   "metadata": {},
   "outputs": [
    {
     "name": "stdout",
     "output_type": "stream",
     "text": [
      "C:\\Users\\pukhr\n"
     ]
    }
   ],
   "source": []
  },
  {
   "cell_type": "code",
   "execution_count": null,
   "metadata": {},
   "outputs": [],
   "source": []
  },
  {
   "cell_type": "code",
   "execution_count": null,
   "metadata": {},
   "outputs": [],
   "source": []
  },
  {
   "cell_type": "markdown",
   "metadata": {},
   "source": [
    "# Saving and Restoring"
   ]
  },
  {
   "cell_type": "code",
   "execution_count": 28,
   "metadata": {},
   "outputs": [],
   "source": [
    "model.save(\"my_Func_model.h5\")"
   ]
  },
  {
   "cell_type": "code",
   "execution_count": 29,
   "metadata": {},
   "outputs": [
    {
     "data": {
      "text/plain": [
       "'D:\\\\MLYOUTUBE\\\\Machine-Learning-in-90-days-master\\\\Section 1- Python Crash Course\\\\DEEP LEARNING\\\\udemy deep learning\\\\Others\\\\5. ST Academy - ANN resource files\\\\Python_codes'"
      ]
     },
     "execution_count": 29,
     "metadata": {},
     "output_type": "execute_result"
    }
   ],
   "source": [
    "%pwd"
   ]
  },
  {
   "cell_type": "code",
   "execution_count": 7,
   "metadata": {},
   "outputs": [
    {
     "name": "stdout",
     "output_type": "stream",
     "text": [
      "C:\\Users\\pukhr\n"
     ]
    }
   ],
   "source": [
    "%cd C:\\\\Users\\\\pukhr"
   ]
  },
  {
   "cell_type": "code",
   "execution_count": 37,
   "metadata": {},
   "outputs": [],
   "source": [
    "del model"
   ]
  },
  {
   "cell_type": "code",
   "execution_count": 31,
   "metadata": {},
   "outputs": [],
   "source": [
    "keras.backend.clear_session()"
   ]
  },
  {
   "cell_type": "code",
   "execution_count": 32,
   "metadata": {},
   "outputs": [],
   "source": [
    "model = keras.models.load_model(\"my_Func_model.h5\")"
   ]
  },
  {
   "cell_type": "code",
   "execution_count": 35,
   "metadata": {},
   "outputs": [
    {
     "name": "stdout",
     "output_type": "stream",
     "text": [
      "Model: \"model\"\n",
      "__________________________________________________________________________________________________\n",
      "Layer (type)                    Output Shape         Param #     Connected to                     \n",
      "==================================================================================================\n",
      "input_1 (InputLayer)            [(None, 8)]          0                                            \n",
      "__________________________________________________________________________________________________\n",
      "dense (Dense)                   (None, 30)           270         input_1[0][0]                    \n",
      "__________________________________________________________________________________________________\n",
      "dense_1 (Dense)                 (None, 30)           930         dense[0][0]                      \n",
      "__________________________________________________________________________________________________\n",
      "concatenate (Concatenate)       (None, 38)           0           input_1[0][0]                    \n",
      "                                                                 dense_1[0][0]                    \n",
      "__________________________________________________________________________________________________\n",
      "dense_2 (Dense)                 (None, 1)            39          concatenate[0][0]                \n",
      "==================================================================================================\n",
      "Total params: 1,239\n",
      "Trainable params: 1,239\n",
      "Non-trainable params: 0\n",
      "__________________________________________________________________________________________________\n"
     ]
    }
   ],
   "source": [
    "model.summary()"
   ]
  },
  {
   "cell_type": "code",
   "execution_count": 36,
   "metadata": {},
   "outputs": [
    {
     "name": "stdout",
     "output_type": "stream",
     "text": [
      "[[0.7181079]\n",
      " [1.6815798]\n",
      " [4.170888 ]]\n"
     ]
    }
   ],
   "source": [
    "y_pred = model.predict(X_new)\n",
    "print (y_pred)"
   ]
  },
  {
   "cell_type": "markdown",
   "metadata": {},
   "source": [
    "# Using Callbacks during Training"
   ]
  },
  {
   "cell_type": "code",
   "execution_count": 38,
   "metadata": {},
   "outputs": [],
   "source": [
    "keras.backend.clear_session()\n",
    "np.random.seed(42)\n",
    "tf.random.set_seed(42)"
   ]
  },
  {
   "cell_type": "code",
   "execution_count": 39,
   "metadata": {},
   "outputs": [],
   "source": [
    "model = keras.models.Sequential([\n",
    "    keras.layers.Dense(30, activation=\"relu\", input_shape=[8]),\n",
    "    keras.layers.Dense(30, activation=\"relu\"),\n",
    "    keras.layers.Dense(1)\n",
    "])    "
   ]
  },
  {
   "cell_type": "code",
   "execution_count": 40,
   "metadata": {},
   "outputs": [],
   "source": [
    "model.compile(loss=\"mse\", optimizer=keras.optimizers.SGD(lr=1e-3))"
   ]
  },
  {
   "cell_type": "code",
   "execution_count": 41,
   "metadata": {},
   "outputs": [],
   "source": [
    "checkpoint_cb = keras.callbacks.ModelCheckpoint(\"Model-{epoch:02d}.h5\")"
   ]
  },
  {
   "cell_type": "code",
   "execution_count": 42,
   "metadata": {},
   "outputs": [
    {
     "name": "stdout",
     "output_type": "stream",
     "text": [
      "Epoch 1/10\n",
      "363/363 [==============================] - 1s 2ms/step - loss: 1.8866 - val_loss: 0.7126\n",
      "Epoch 2/10\n",
      "363/363 [==============================] - 1s 1ms/step - loss: 0.6577 - val_loss: 0.6880\n",
      "Epoch 3/10\n",
      "363/363 [==============================] - 1s 1ms/step - loss: 0.5934 - val_loss: 0.5803\n",
      "Epoch 4/10\n",
      "363/363 [==============================] - 1s 1ms/step - loss: 0.5557 - val_loss: 0.5166\n",
      "Epoch 5/10\n",
      "363/363 [==============================] - 0s 1ms/step - loss: 0.5272 - val_loss: 0.4895\n",
      "Epoch 6/10\n",
      "363/363 [==============================] - 0s 1ms/step - loss: 0.5033 - val_loss: 0.4951\n",
      "Epoch 7/10\n",
      "363/363 [==============================] - 0s 1ms/step - loss: 0.4854 - val_loss: 0.4861\n",
      "Epoch 8/10\n",
      "363/363 [==============================] - 0s 1ms/step - loss: 0.4709 - val_loss: 0.4554\n",
      "Epoch 9/10\n",
      "363/363 [==============================] - 0s 1ms/step - loss: 0.4578 - val_loss: 0.4413\n",
      "Epoch 10/10\n",
      "363/363 [==============================] - 0s 1ms/step - loss: 0.4474 - val_loss: 0.4379\n"
     ]
    }
   ],
   "source": [
    "history = model.fit(X_train, y_train, epochs=10,\n",
    "                    validation_data=(X_valid, y_valid),\n",
    "                    callbacks=[checkpoint_cb])"
   ]
  },
  {
   "cell_type": "code",
   "execution_count": 43,
   "metadata": {},
   "outputs": [],
   "source": [
    "del model\n",
    "keras.backend.clear_session()"
   ]
  },
  {
   "cell_type": "code",
   "execution_count": 44,
   "metadata": {},
   "outputs": [],
   "source": [
    "model = keras.models.load_model(\"Model-10.h5\")"
   ]
  },
  {
   "cell_type": "code",
   "execution_count": 45,
   "metadata": {},
   "outputs": [
    {
     "name": "stdout",
     "output_type": "stream",
     "text": [
      "1/1 [==============================] - 0s 2ms/step - loss: 0.4382\n"
     ]
    }
   ],
   "source": [
    "mse_test = model.evaluate(X_test, y_test,batch_size=5160)"
   ]
  },
  {
   "cell_type": "code",
   "execution_count": 16,
   "metadata": {},
   "outputs": [
    {
     "name": "stdout",
     "output_type": "stream",
     "text": [
      "0.43821001052856445\n"
     ]
    }
   ],
   "source": [
    "print (mse_test)"
   ]
  },
  {
   "cell_type": "code",
   "execution_count": 15,
   "metadata": {},
   "outputs": [
    {
     "data": {
      "text/plain": [
       "['loss']"
      ]
     },
     "execution_count": 15,
     "metadata": {},
     "output_type": "execute_result"
    }
   ],
   "source": [
    "model.metrics_names"
   ]
  },
  {
   "cell_type": "code",
   "execution_count": 17,
   "metadata": {},
   "outputs": [],
   "source": [
    "y_pred = model.predict(X_test)"
   ]
  },
  {
   "cell_type": "code",
   "execution_count": 18,
   "metadata": {},
   "outputs": [],
   "source": [
    "y_diff=y_pred-y_test"
   ]
  },
  {
   "cell_type": "code",
   "execution_count": 26,
   "metadata": {},
   "outputs": [
    {
     "data": {
      "text/plain": [
       "(5160, 1)"
      ]
     },
     "execution_count": 26,
     "metadata": {},
     "output_type": "execute_result"
    }
   ],
   "source": [
    "y_pred.shape"
   ]
  },
  {
   "cell_type": "code",
   "execution_count": null,
   "metadata": {},
   "outputs": [],
   "source": [
    "mse = (y_diff^2)"
   ]
  },
  {
   "cell_type": "code",
   "execution_count": null,
   "metadata": {},
   "outputs": [],
   "source": []
  },
  {
   "cell_type": "markdown",
   "metadata": {},
   "source": [
    "### Best Model Only"
   ]
  },
  {
   "cell_type": "code",
   "execution_count": 46,
   "metadata": {},
   "outputs": [],
   "source": [
    "del model\n",
    "keras.backend.clear_session()"
   ]
  },
  {
   "cell_type": "code",
   "execution_count": 47,
   "metadata": {},
   "outputs": [],
   "source": [
    "model = keras.models.Sequential([\n",
    "    keras.layers.Dense(30, activation=\"relu\", input_shape=[8]),\n",
    "    keras.layers.Dense(30, activation=\"relu\"),\n",
    "    keras.layers.Dense(1)\n",
    "])    "
   ]
  },
  {
   "cell_type": "code",
   "execution_count": 48,
   "metadata": {},
   "outputs": [],
   "source": [
    "model.compile(loss=\"mse\", optimizer=keras.optimizers.SGD(lr=1e-3))"
   ]
  },
  {
   "cell_type": "code",
   "execution_count": 49,
   "metadata": {},
   "outputs": [],
   "source": [
    "checkpoint_cb = keras.callbacks.ModelCheckpoint(\"Best_Model.h5\", save_best_only=True)"
   ]
  },
  {
   "cell_type": "code",
   "execution_count": 50,
   "metadata": {},
   "outputs": [
    {
     "name": "stdout",
     "output_type": "stream",
     "text": [
      "Epoch 1/10\n",
      "363/363 [==============================] - 1s 1ms/step - loss: 1.4581 - val_loss: 0.7883\n",
      "Epoch 2/10\n",
      "363/363 [==============================] - 0s 1ms/step - loss: 0.7368 - val_loss: 0.7306\n",
      "Epoch 3/10\n",
      "363/363 [==============================] - 0s 1ms/step - loss: 0.6516 - val_loss: 0.6501\n",
      "Epoch 4/10\n",
      "363/363 [==============================] - 1s 1ms/step - loss: 0.5951 - val_loss: 0.5551\n",
      "Epoch 5/10\n",
      "363/363 [==============================] - 0s 1ms/step - loss: 0.5536 - val_loss: 0.5025\n",
      "Epoch 6/10\n",
      "363/363 [==============================] - 1s 1ms/step - loss: 0.5199 - val_loss: 0.4728\n",
      "Epoch 7/10\n",
      "363/363 [==============================] - 0s 1ms/step - loss: 0.4940 - val_loss: 0.4497\n",
      "Epoch 8/10\n",
      "363/363 [==============================] - 0s 1ms/step - loss: 0.4730 - val_loss: 0.4359\n",
      "Epoch 9/10\n",
      "363/363 [==============================] - 0s 1ms/step - loss: 0.4563 - val_loss: 0.4267\n",
      "Epoch 10/10\n",
      "363/363 [==============================] - 0s 1ms/step - loss: 0.4431 - val_loss: 0.4224\n"
     ]
    }
   ],
   "source": [
    "history = model.fit(X_train, y_train, epochs=10,\n",
    "                    validation_data=(X_valid, y_valid),\n",
    "                    callbacks=[checkpoint_cb])"
   ]
  },
  {
   "cell_type": "code",
   "execution_count": 51,
   "metadata": {},
   "outputs": [
    {
     "name": "stdout",
     "output_type": "stream",
     "text": [
      "162/162 [==============================] - 0s 803us/step - loss: 0.4366\n"
     ]
    }
   ],
   "source": [
    "model = keras.models.load_model(\"Best_Model.h5\") # rollback to best model\n",
    "mse_test = model.evaluate(X_test, y_test)"
   ]
  },
  {
   "cell_type": "markdown",
   "metadata": {},
   "source": [
    "### Best Model Only"
   ]
  },
  {
   "cell_type": "code",
   "execution_count": 52,
   "metadata": {},
   "outputs": [],
   "source": [
    "del model\n",
    "keras.backend.clear_session()"
   ]
  },
  {
   "cell_type": "code",
   "execution_count": 53,
   "metadata": {},
   "outputs": [],
   "source": [
    "model = keras.models.Sequential([\n",
    "    keras.layers.Dense(30, activation=\"relu\", input_shape=[8]),\n",
    "    keras.layers.Dense(30, activation=\"relu\"),\n",
    "    keras.layers.Dense(1)\n",
    "])    "
   ]
  },
  {
   "cell_type": "code",
   "execution_count": 54,
   "metadata": {},
   "outputs": [],
   "source": [
    "model.compile(loss=\"mse\", optimizer=keras.optimizers.SGD(lr=1e-3))"
   ]
  },
  {
   "cell_type": "code",
   "execution_count": 55,
   "metadata": {},
   "outputs": [],
   "source": [
    "checkpoint_cb = keras.callbacks.ModelCheckpoint(\"early_stop_model.h5\", save_best_only=True)"
   ]
  },
  {
   "cell_type": "code",
   "execution_count": 56,
   "metadata": {},
   "outputs": [],
   "source": [
    "early_stopping_cb = keras.callbacks.EarlyStopping(patience=10,\n",
    "                                                  restore_best_weights=True)\n",
    "\n",
    "#     patience: Number of epochs with no improvement after which training will be stopped."
   ]
  },
  {
   "cell_type": "code",
   "execution_count": 57,
   "metadata": {},
   "outputs": [
    {
     "name": "stdout",
     "output_type": "stream",
     "text": [
      "Epoch 1/200\n",
      "363/363 [==============================] - 1s 1ms/step - loss: 2.5780 - val_loss: 2.2266\n",
      "Epoch 2/200\n",
      "363/363 [==============================] - 1s 1ms/step - loss: 1.0896 - val_loss: 0.9287\n",
      "Epoch 3/200\n",
      "363/363 [==============================] - 0s 1ms/step - loss: 0.8430 - val_loss: 0.9400\n",
      "Epoch 4/200\n",
      "363/363 [==============================] - 0s 1ms/step - loss: 0.7673 - val_loss: 0.7490\n",
      "Epoch 5/200\n",
      "363/363 [==============================] - 1s 1ms/step - loss: 0.7194 - val_loss: 0.6682\n",
      "Epoch 6/200\n",
      "363/363 [==============================] - 1s 1ms/step - loss: 0.6799 - val_loss: 0.6534\n",
      "Epoch 7/200\n",
      "363/363 [==============================] - 0s 1ms/step - loss: 0.6466 - val_loss: 0.6407\n",
      "Epoch 8/200\n",
      "363/363 [==============================] - 1s 1ms/step - loss: 0.6173 - val_loss: 0.5704\n",
      "Epoch 9/200\n",
      "363/363 [==============================] - 1s 1ms/step - loss: 0.5894 - val_loss: 0.5552\n",
      "Epoch 10/200\n",
      "363/363 [==============================] - 0s 1ms/step - loss: 0.5645 - val_loss: 0.5572\n",
      "Epoch 11/200\n",
      "363/363 [==============================] - 1s 1ms/step - loss: 0.5428 - val_loss: 0.5168\n",
      "Epoch 12/200\n",
      "363/363 [==============================] - 0s 1ms/step - loss: 0.5212 - val_loss: 0.5067\n",
      "Epoch 13/200\n",
      "363/363 [==============================] - 1s 1ms/step - loss: 0.5034 - val_loss: 0.4662\n",
      "Epoch 14/200\n",
      "363/363 [==============================] - 1s 2ms/step - loss: 0.4866 - val_loss: 0.4498\n",
      "Epoch 15/200\n",
      "363/363 [==============================] - 0s 1ms/step - loss: 0.4721 - val_loss: 0.4385\n",
      "Epoch 16/200\n",
      "363/363 [==============================] - 1s 1ms/step - loss: 0.4594 - val_loss: 0.4251\n",
      "Epoch 17/200\n",
      "363/363 [==============================] - 0s 1ms/step - loss: 0.4489 - val_loss: 0.4241\n",
      "Epoch 18/200\n",
      "363/363 [==============================] - 0s 1ms/step - loss: 0.4396 - val_loss: 0.4331\n",
      "Epoch 19/200\n",
      "363/363 [==============================] - 1s 1ms/step - loss: 0.4315 - val_loss: 0.4004\n",
      "Epoch 20/200\n",
      "363/363 [==============================] - 0s 1ms/step - loss: 0.4252 - val_loss: 0.4191\n",
      "Epoch 21/200\n",
      "363/363 [==============================] - 1s 3ms/step - loss: 0.4190 - val_loss: 0.3939\n",
      "Epoch 22/200\n",
      "363/363 [==============================] - 0s 1ms/step - loss: 0.4140 - val_loss: 0.4230\n",
      "Epoch 23/200\n",
      "363/363 [==============================] - 1s 2ms/step - loss: 0.4094 - val_loss: 0.3836\n",
      "Epoch 24/200\n",
      "363/363 [==============================] - 1s 1ms/step - loss: 0.4052 - val_loss: 0.4113\n",
      "Epoch 25/200\n",
      "363/363 [==============================] - 1s 1ms/step - loss: 0.4014 - val_loss: 0.4086\n",
      "Epoch 26/200\n",
      "363/363 [==============================] - 0s 1ms/step - loss: 0.3981 - val_loss: 0.4039\n",
      "Epoch 27/200\n",
      "363/363 [==============================] - 1s 2ms/step - loss: 0.3950 - val_loss: 0.3685\n",
      "Epoch 28/200\n",
      "363/363 [==============================] - 0s 1ms/step - loss: 0.3920 - val_loss: 0.4138\n",
      "Epoch 29/200\n",
      "363/363 [==============================] - 0s 1ms/step - loss: 0.3895 - val_loss: 0.3730\n",
      "Epoch 30/200\n",
      "363/363 [==============================] - 1s 1ms/step - loss: 0.3867 - val_loss: 0.4091\n",
      "Epoch 31/200\n",
      "363/363 [==============================] - 0s 1ms/step - loss: 0.3843 - val_loss: 0.3704\n",
      "Epoch 32/200\n",
      "363/363 [==============================] - 0s 1ms/step - loss: 0.3819 - val_loss: 0.4205\n",
      "Epoch 33/200\n",
      "363/363 [==============================] - 1s 2ms/step - loss: 0.3805 - val_loss: 0.3561\n",
      "Epoch 34/200\n",
      "363/363 [==============================] - 0s 1ms/step - loss: 0.3781 - val_loss: 0.3605\n",
      "Epoch 35/200\n",
      "363/363 [==============================] - 0s 1ms/step - loss: 0.3762 - val_loss: 0.4080\n",
      "Epoch 36/200\n",
      "363/363 [==============================] - 0s 1ms/step - loss: 0.3745 - val_loss: 0.3594\n",
      "Epoch 37/200\n",
      "363/363 [==============================] - 0s 1ms/step - loss: 0.3729 - val_loss: 0.3985\n",
      "Epoch 38/200\n",
      "363/363 [==============================] - 1s 3ms/step - loss: 0.3715 - val_loss: 0.3488\n",
      "Epoch 39/200\n",
      "363/363 [==============================] - 0s 1ms/step - loss: 0.3696 - val_loss: 0.3573\n",
      "Epoch 40/200\n",
      "363/363 [==============================] - 0s 1ms/step - loss: 0.3680 - val_loss: 0.3543\n",
      "Epoch 41/200\n",
      "363/363 [==============================] - 0s 1ms/step - loss: 0.3668 - val_loss: 0.3698\n",
      "Epoch 42/200\n",
      "363/363 [==============================] - 0s 1ms/step - loss: 0.3657 - val_loss: 0.3761\n",
      "Epoch 43/200\n",
      "363/363 [==============================] - 0s 1ms/step - loss: 0.3641 - val_loss: 0.3722\n",
      "Epoch 44/200\n",
      "363/363 [==============================] - 0s 1ms/step - loss: 0.3628 - val_loss: 0.3840\n",
      "Epoch 45/200\n",
      "363/363 [==============================] - 1s 2ms/step - loss: 0.3620 - val_loss: 0.3427\n",
      "Epoch 46/200\n",
      "363/363 [==============================] - 0s 1ms/step - loss: 0.3605 - val_loss: 0.3663\n",
      "Epoch 47/200\n",
      "363/363 [==============================] - 1s 2ms/step - loss: 0.3595 - val_loss: 0.3478\n",
      "Epoch 48/200\n",
      "363/363 [==============================] - 0s 1ms/step - loss: 0.3584 - val_loss: 0.3782\n",
      "Epoch 49/200\n",
      "363/363 [==============================] - 1s 1ms/step - loss: 0.3578 - val_loss: 0.3394\n",
      "Epoch 50/200\n",
      "363/363 [==============================] - 1s 2ms/step - loss: 0.3565 - val_loss: 0.3388\n",
      "Epoch 51/200\n",
      "363/363 [==============================] - 0s 1ms/step - loss: 0.3553 - val_loss: 0.3669\n",
      "Epoch 52/200\n",
      "363/363 [==============================] - 1s 1ms/step - loss: 0.3548 - val_loss: 0.3358\n",
      "Epoch 53/200\n",
      "363/363 [==============================] - 0s 1ms/step - loss: 0.3538 - val_loss: 0.3836\n",
      "Epoch 54/200\n",
      "363/363 [==============================] - 1s 2ms/step - loss: 0.3531 - val_loss: 0.3354\n",
      "Epoch 55/200\n",
      "363/363 [==============================] - 0s 1ms/step - loss: 0.3522 - val_loss: 0.3435\n",
      "Epoch 56/200\n",
      "363/363 [==============================] - 0s 1ms/step - loss: 0.3513 - val_loss: 0.3454\n",
      "Epoch 57/200\n",
      "363/363 [==============================] - 0s 1ms/step - loss: 0.3505 - val_loss: 0.3373\n",
      "Epoch 58/200\n",
      "363/363 [==============================] - 0s 1ms/step - loss: 0.3495 - val_loss: 0.3674\n",
      "Epoch 59/200\n",
      "363/363 [==============================] - 0s 1ms/step - loss: 0.3491 - val_loss: 0.3593\n",
      "Epoch 60/200\n",
      "363/363 [==============================] - 0s 1ms/step - loss: 0.3483 - val_loss: 0.3386\n",
      "Epoch 61/200\n",
      "363/363 [==============================] - 0s 1ms/step - loss: 0.3471 - val_loss: 0.3603\n",
      "Epoch 62/200\n",
      "363/363 [==============================] - 0s 1ms/step - loss: 0.3467 - val_loss: 0.3600\n",
      "Epoch 63/200\n",
      "363/363 [==============================] - 0s 1ms/step - loss: 0.3456 - val_loss: 0.3567\n",
      "Epoch 64/200\n",
      "363/363 [==============================] - 0s 1ms/step - loss: 0.3454 - val_loss: 0.3374\n"
     ]
    }
   ],
   "source": [
    "history = model.fit(X_train, y_train, epochs=200,\n",
    "                    validation_data=(X_valid, y_valid),\n",
    "                    callbacks=[checkpoint_cb, early_stopping_cb])"
   ]
  },
  {
   "cell_type": "code",
   "execution_count": 58,
   "metadata": {},
   "outputs": [
    {
     "name": "stdout",
     "output_type": "stream",
     "text": [
      "162/162 [==============================] - 0s 813us/step - loss: 0.3481\n"
     ]
    }
   ],
   "source": [
    "model = keras.models.load_model(\"early_stop_model.h5\")\n",
    "mse_test = model.evaluate(X_test, y_test)"
   ]
  },
  {
   "cell_type": "code",
   "execution_count": null,
   "metadata": {},
   "outputs": [],
   "source": []
  }
 ],
 "metadata": {
  "kernelspec": {
   "display_name": "Python 3",
   "language": "python",
   "name": "python3"
  },
  "language_info": {
   "codemirror_mode": {
    "name": "ipython",
    "version": 3
   },
   "file_extension": ".py",
   "mimetype": "text/x-python",
   "name": "python",
   "nbconvert_exporter": "python",
   "pygments_lexer": "ipython3",
   "version": "3.8.3"
  }
 },
 "nbformat": 4,
 "nbformat_minor": 2
}
